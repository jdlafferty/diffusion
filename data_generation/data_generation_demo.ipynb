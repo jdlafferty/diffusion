{
 "cells": [
  {
   "cell_type": "code",
   "execution_count": 1,
   "metadata": {},
   "outputs": [],
   "source": [
    "import numpy as np\n",
    "import imageio\n",
    "import matplotlib.pyplot as plt\n",
    "import matplotlib.image as mpimg\n",
    "from matplotlib.gridspec import GridSpec\n",
    "from scipy.ndimage import gaussian_filter\n",
    "import importlib\n",
    "\n",
    "import data_generation as dtgn"
   ]
  },
  {
   "cell_type": "code",
   "execution_count": 2,
   "metadata": {},
   "outputs": [
    {
     "data": {
      "image/png": "[encoded data removed]",
      "text/plain": [
       "<Figure size 432x288 with 1 Axes>"
      ]
     },
     "metadata": {
      "needs_background": "light"
     },
     "output_type": "display_data"
    }
   ],
   "source": [
    "importlib.reload(dtgn)\n",
    "\n",
    "N = 30 # width and length dimension of the RGB image\n",
    "N_half = np.int((N - 1) / 2)\n",
    "ratios = [0.7, 0.15, 0.15] # sizes of the objects\n",
    "colors = [[0.8, 0.8, 0.8], [0.8, 0.2, 0.2], [0.2, 0.2, 0.8]] # colors of the objects, in RGB\n",
    "bound_val = 0.5 # position bound of the smaller objects\n",
    "background = 'smoothed' # background of the images, either 'zeros' or 'smoothed'.\n",
    "\n",
    "nx, ny = (N, N)\n",
    "x = np.linspace(0, N-1, N)\n",
    "y = np.linspace(0, N-1, N)\n",
    "x_coord, y_coord = np.meshgrid(x, y)\n",
    "distance_matrix = np.sqrt((x_coord - N_half) ** 2 + (y_coord - N_half) ** 2) + 1e-32\n",
    "angle_matrix = np.arccos((x_coord - N_half) / distance_matrix)\n",
    "angle_matrix[N_half, N_half] = 0\n",
    "angle_matrix[N_half+1:, :] = 2 * np.pi - angle_matrix[N_half+1:, :]\n",
    "\n",
    "img, masks = dtgn.get_an_image(N, ratios, distance_matrix, angle_matrix, bound_val, colors, background, H=1)\n",
    "\n",
    "plt.imshow(img)\n",
    "plt.axis('off')\n",
    "\n",
    "plt.show()"
   ]
  },
  {
   "cell_type": "code",
   "execution_count": 8,
   "metadata": {},
   "outputs": [
    {
     "data": {
      "image/png": "[encoded data removed]",
      "text/plain": [
       "<Figure size 432x288 with 1 Axes>"
      ]
     },
     "metadata": {
      "needs_background": "light"
     },
     "output_type": "display_data"
    }
   ],
   "source": [
    "data_folder_s = '../results/data_smoothed/'\n",
    "\n",
    "img = np.load(data_folder_s + f'img_{0}.npy')\n",
    "\n",
    "plt.imshow(img)\n",
    "plt.axis('off')\n",
    "\n",
    "plt.show()"
   ]
  },
  {
   "cell_type": "code",
   "execution_count": 9,
   "metadata": {},
   "outputs": [
    {
     "data": {
      "image/png": "[encoded data removed]",
      "text/plain": [
       "<Figure size 432x288 with 1 Axes>"
      ]
     },
     "metadata": {
      "needs_background": "light"
     },
     "output_type": "display_data"
    }
   ],
   "source": [
    "data_folder_s = '../results/data_zeros/'\n",
    "\n",
    "img = np.load(data_folder_s + f'img_{0}.npy')\n",
    "\n",
    "plt.imshow(img)\n",
    "plt.axis('off')\n",
    "\n",
    "plt.show()"
   ]
  },
  {
   "cell_type": "code",
   "execution_count": null,
   "metadata": {},
   "outputs": [],
   "source": []
  }
 ],
 "metadata": {
  "kernelspec": {
   "display_name": "Python 3",
   "language": "python",
   "name": "python3"
  },
  "language_info": {
   "codemirror_mode": {
    "name": "ipython",
    "version": 3
   },
   "file_extension": ".py",
   "mimetype": "text/x-python",
   "name": "python",
   "nbconvert_exporter": "python",
   "pygments_lexer": "ipython3",
   "version": "3.8.5"
  }
 },
 "nbformat": 4,
 "nbformat_minor": 4
}
